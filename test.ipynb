{
 "cells": [
  {
   "cell_type": "code",
   "execution_count": 1,
   "metadata": {},
   "outputs": [],
   "source": [
    "import numpy as np\n",
    "import pandas as pd\n",
    "from sklearn.metrics import roc_curve,auc\n",
    "import matplotlib.pyplot as plt\n",
    "import cv2\n",
    "import sys\n",
    "from sklearn.metrics import precision_recall_curve\n",
    "from sklearn.utils.fixes import signature\n",
    "from sklearn.metrics import average_precision_score\n",
    "from sklearn.metrics import confusion_matrix, accuracy_score, classification_report\n",
    "import os\n",
    "from sklearn.externals import joblib\n",
    "from skimage.feature import hog"
   ]
  },
  {
   "cell_type": "code",
   "execution_count": 2,
   "metadata": {},
   "outputs": [],
   "source": [
    "clf = joblib.load('person_final_hard.pkl')\n",
    "test_path = \"testdataset\"\n",
    "testData = []\n",
    "testLabels = []"
   ]
  },
  {
   "cell_type": "code",
   "execution_count": 3,
   "metadata": {},
   "outputs": [],
   "source": [
    "# get the test labels\n",
    "train_labels = os.listdir(test_path)"
   ]
  },
  {
   "cell_type": "code",
   "execution_count": 4,
   "metadata": {},
   "outputs": [
    {
     "name": "stdout",
     "output_type": "stream",
     "text": [
      "Processing Negative images\n",
      "Images Done: 100.0\t negatives: 4553atives: 45523\n",
      "[STATUS] processed folder: neg\n",
      "Processing Positive images\n",
      "Images Done: 100.0\t positives: 958sitives: 9573\n",
      "[STATUS] processed folder: pos\n",
      "[STATUS] completed Positive and Negative Feature Extraction...\n",
      "CPU times: user 26.8 s, sys: 1.9 s, total: 28.7 s\n",
      "Wall time: 30.3 s\n"
     ]
    }
   ],
   "source": [
    "%%time\n",
    "# loop over the training data sub-folders\n",
    "for training_name in train_labels:\n",
    "    # join the training data path and each species training folder\n",
    "    dir = os.path.join(test_path, training_name)\n",
    "\n",
    "    # get the current training label\n",
    "    current_label = training_name\n",
    "    images_per_class = len(os.listdir(dir))\n",
    "    num = 0\n",
    "    count = 0\n",
    "    if(current_label == 'neg'):\n",
    "        print (\"Processing Negative images\")\n",
    "        for x in range(1,images_per_class+1):\n",
    "            file = dir + \"/\" + str(x) + \".jpg\"\n",
    "            img = cv2.imread(file)\n",
    "            gray = cv2.cvtColor(img, cv2.COLOR_BGR2GRAY)\n",
    "            fd = hog(gray,orientations=9,pixels_per_cell=(6,6),cells_per_block=(2,2),block_norm=\"L1\",transform_sqrt=True)\n",
    "            testData.append(fd)\n",
    "            testLabels.append(0)\n",
    "            count = count + 1\n",
    "            num = num + 1\n",
    "            sys.stdout.write(\"\\r\" + \"Images Done: \" + str((num/4553.0)*100) + \"\\t negatives: \" + str(count))\n",
    "            sys.stdout.flush()\n",
    "        print (\"\\n[STATUS] processed folder: {}\".format(current_label))\n",
    "    elif(current_label == 'pos'):\n",
    "        print (\"Processing Positive images\")\n",
    "        for x in range(1,images_per_class+1):\n",
    "            file = dir + \"/\" + str(x) + \".jpg\"\n",
    "            img = cv2.imread(file)\n",
    "            gray = cv2.cvtColor(img, cv2.COLOR_BGR2GRAY)\n",
    "            fd = hog(gray,orientations=9,pixels_per_cell=(6,6),cells_per_block=(2,2),block_norm=\"L1\",transform_sqrt=True)\n",
    "            testData.append(fd)\n",
    "            testLabels.append(1)\n",
    "            count = count + 1\n",
    "            num = num + 1\n",
    "            sys.stdout.write(\"\\r\" + \"Images Done: \" + str((num/958.0)*100) + \"\\t positives: \" + str(count))\n",
    "            sys.stdout.flush()\n",
    "        print (\"\\n[STATUS] processed folder: {}\".format(current_label))\n",
    "            \n",
    "\n",
    "print (\"[STATUS] completed Positive and Negative Feature Extraction...\")"
   ]
  },
  {
   "cell_type": "code",
   "execution_count": 5,
   "metadata": {},
   "outputs": [],
   "source": [
    "prediction_result = clf.predict(testData)\n",
    "score = accuracy_score(np.asarray(testLabels), prediction_result)"
   ]
  },
  {
   "cell_type": "code",
   "execution_count": 6,
   "metadata": {},
   "outputs": [
    {
     "name": "stdout",
     "output_type": "stream",
     "text": [
      "\n",
      "Average precision-recall score: 0.99\n",
      "\n",
      "Classification Report\n",
      "\n",
      "              precision    recall  f1-score   support\n",
      "\n",
      "           0       1.00      0.97      0.98      4553\n",
      "           1       0.86      0.98      0.91       958\n",
      "\n",
      "   micro avg       0.97      0.97      0.97      5511\n",
      "   macro avg       0.93      0.97      0.95      5511\n",
      "weighted avg       0.97      0.97      0.97      5511\n",
      "\n",
      "Accuracy:0.9682453275267646\n",
      "\n",
      "Confusion Matrix\n"
     ]
    },
    {
     "data": {
      "text/html": [
       "<div>\n",
       "<style scoped>\n",
       "    .dataframe tbody tr th:only-of-type {\n",
       "        vertical-align: middle;\n",
       "    }\n",
       "\n",
       "    .dataframe tbody tr th {\n",
       "        vertical-align: top;\n",
       "    }\n",
       "\n",
       "    .dataframe thead th {\n",
       "        text-align: right;\n",
       "    }\n",
       "</style>\n",
       "<table border=\"1\" class=\"dataframe\">\n",
       "  <thead>\n",
       "    <tr style=\"text-align: right;\">\n",
       "      <th>prediction</th>\n",
       "      <th>0</th>\n",
       "      <th>1</th>\n",
       "    </tr>\n",
       "    <tr>\n",
       "      <th>label</th>\n",
       "      <th></th>\n",
       "      <th></th>\n",
       "    </tr>\n",
       "  </thead>\n",
       "  <tbody>\n",
       "    <tr>\n",
       "      <th>0</th>\n",
       "      <td>4396</td>\n",
       "      <td>157</td>\n",
       "    </tr>\n",
       "    <tr>\n",
       "      <th>1</th>\n",
       "      <td>18</td>\n",
       "      <td>940</td>\n",
       "    </tr>\n",
       "  </tbody>\n",
       "</table>\n",
       "</div>"
      ],
      "text/plain": [
       "prediction     0    1\n",
       "label                \n",
       "0           4396  157\n",
       "1             18  940"
      ]
     },
     "execution_count": 6,
     "metadata": {},
     "output_type": "execute_result"
    }
   ],
   "source": [
    "decision = clf.decision_function(testData)\n",
    "average_precision = average_precision_score(testLabels, decision)\n",
    "print('\\nAverage precision-recall score: {0:0.2f}'.format(\n",
    "      average_precision))\n",
    "print(\"\\nClassification Report\\n\")\n",
    "print(classification_report(testLabels, prediction_result))\n",
    "print(\"Accuracy:\" +str(score)+'\\n')\n",
    "print(\"Confusion Matrix\")\n",
    "cmx = confusion_matrix(testLabels, prediction_result, labels=[0,1])\n",
    "df = pd.DataFrame(cmx, columns=[0,1], index=[0,1])\n",
    "df.columns.name = 'prediction'\n",
    "df.index.name = 'label'\n",
    "df"
   ]
  },
  {
   "cell_type": "code",
   "execution_count": 7,
   "metadata": {},
   "outputs": [
    {
     "data": {
      "image/png": "[encoded data removed]",
      "text/plain": [
       "<Figure size 432x288 with 1 Axes>"
      ]
     },
     "metadata": {},
     "output_type": "display_data"
    }
   ],
   "source": [
    "fpr_svm, tpr_svm, thresholds_svm = roc_curve(testLabels, decision)\n",
    "fpr_, tpr_, thresholds_ = roc_curve(testLabels, decision)\n",
    "auc_svm = auc(fpr_svm, tpr_svm)\n",
    "auc_ = auc(fpr_, tpr_)\n",
    "plt.figure(1)\n",
    "plt.plot([0, 1], [0, 1], 'k--')\n",
    "#plt.plot(fpr_svm, tpr_svm, label='class 0 (area = {:.3f})'.format(auc_svm))\n",
    "plt.plot(fpr_, tpr_, label='HoG (area = {:.3f})'.format(auc_))\n",
    "plt.xlabel('False positive rate')\n",
    "plt.ylabel('True positive rate')\n",
    "plt.title('ROC curve')\n",
    "plt.legend(loc='best')\n",
    "plt.savefig('ROC.png')\n",
    "plt.show()"
   ]
  },
  {
   "cell_type": "code",
   "execution_count": 8,
   "metadata": {},
   "outputs": [
    {
     "data": {
      "image/png": "[encoded data removed]",
      "text/plain": [
       "<Figure size 432x288 with 1 Axes>"
      ]
     },
     "metadata": {},
     "output_type": "display_data"
    }
   ],
   "source": [
    "precision, recall, _ = precision_recall_curve(testLabels, decision)\n",
    "# In matplotlib < 1.5, plt.fill_between does not have a 'step' argument\n",
    "step_kwargs = ({'step': 'post'}\n",
    "               if 'step' in signature(plt.fill_between).parameters\n",
    "               else {})\n",
    "plt.step(recall, precision, color='b', alpha=0.2,\n",
    "         where='post')\n",
    "plt.fill_between(recall, precision, alpha=0.2, color='b', **step_kwargs)\n",
    "\n",
    "plt.xlabel('Recall')\n",
    "plt.ylabel('Precision')\n",
    "plt.ylim([0.0, 1.05])\n",
    "plt.xlim([0.0, 1.0])\n",
    "plt.title('2-class Precision-Recall curve: AP={0:0.2f}'.format(\n",
    "          average_precision))\n",
    "plt.show()"
   ]
  }
 ],
 "metadata": {
  "kernelspec": {
   "display_name": "Python 3",
   "language": "python",
   "name": "python3"
  },
  "language_info": {
   "codemirror_mode": {
    "name": "ipython",
    "version": 3
   },
   "file_extension": ".py",
   "mimetype": "text/x-python",
   "name": "python",
   "nbconvert_exporter": "python",
   "pygments_lexer": "ipython3",
   "version": "3.6.6"
  }
 },
 "nbformat": 4,
 "nbformat_minor": 2
}
