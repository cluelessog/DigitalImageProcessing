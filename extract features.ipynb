{
 "cells": [
  {
   "cell_type": "code",
   "execution_count": 10,
   "metadata": {},
   "outputs": [],
   "source": [
    "import numpy as np \n",
    "import cv2\n",
    "from sklearn import svm\n",
    "from sklearn.svm import SVC\n",
    "import os \n",
    "import glob\n",
    "import matplotlib.pyplot as plt\n",
    "import sys\n",
    "from skimage.feature import hog\n",
    "from sklearn.externals import joblib\n",
    "import warnings\n",
    "warnings.filterwarnings('ignore')"
   ]
  },
  {
   "cell_type": "code",
   "execution_count": 11,
   "metadata": {},
   "outputs": [],
   "source": [
    "# path to training data\n",
    "train_path = \"dataset/train\"\n",
    "hard_neg = \"dataset/hardneg\""
   ]
  },
  {
   "cell_type": "code",
   "execution_count": 12,
   "metadata": {},
   "outputs": [],
   "source": [
    "def sliding_window(image, window_size, step_size):\n",
    "    '''\n",
    "    This function returns a patch of the input image `image` of size equal\n",
    "    to `window_size`. The first image returned top-left co-ordinates (0, 0)\n",
    "    and are increment in both x and y directions by the `step_size` supplied.\n",
    "    So, the input parameters are -\n",
    "    * `image` - Input Image\n",
    "    * `window_size` - Size of Sliding Window\n",
    "    * `step_size` - Incremented Size of Window\n",
    "    The function returns a tuple -\n",
    "    (x, y, im_window)\n",
    "    where\n",
    "    * x is the top-left x co-ordinate\n",
    "    * y is the top-left y co-ordinate\n",
    "    * im_window is the sliding window image\n",
    "    '''\n",
    "    for y in range(0, image.shape[0]-128, step_size[1]):\n",
    "        for x in range(0, image.shape[1]-64, step_size[0]):\n",
    "            yield (x, y, image[y:y + window_size[1], x:x + window_size[0]])\n"
   ]
  },
  {
   "cell_type": "code",
   "execution_count": 32,
   "metadata": {},
   "outputs": [],
   "source": [
    "def hard_negative_mine(hard_neg, winSize, winStride):\n",
    "    hard_negatives = []\n",
    "    hard_negative_labels = []\n",
    "    num_images = len(os.listdir(hard_neg))\n",
    "    count = 0\n",
    "    num = 0\n",
    "    for x in range (1,num_images + 1):\n",
    "        #filename, file_extension = os.path.splitext(neg_img_dir + imgfile)\n",
    "        #filename = os.path.basename(filename)\n",
    "        file = hard_neg + \"/\" + str(x) + \".jpg\"\n",
    "        img = cv2.imread(file)\n",
    "        gray = cv2.cvtColor(img, cv2.COLOR_BGR2GRAY)\n",
    "        for (x, y, im_window) in sliding_window(gray, winSize, winStride):\n",
    "            fd = hog(im_window,orientations=9,pixels_per_cell=(6,6),cells_per_block=(2,2),block_norm=\"L1\",transform_sqrt=True)\n",
    "            if (clf.predict([fd]) == 1):\n",
    "                hard_negatives.append(fd)\n",
    "                hard_negative_labels.append(0)\n",
    "                #joblib.dump(features, \"features/neg_mined/\" + str(filename) + str(imgcount) + \".feat\")\n",
    "                count = count + 1\n",
    "\n",
    "        num = num + 1\n",
    "\n",
    "        #print \"Images Done: \" + str(num)\n",
    "        sys.stdout.write(\"\\r\" + \"Images Done: \" + str((num/218.0)*100) + \"\\tHard negatives: \" + str(count))\n",
    "        sys.stdout.flush()\n",
    "\n",
    "        #print \"Hard Negatives: \" + str(count)\n",
    "        #if (num == 10):\n",
    "    #        break\n",
    "\n",
    "    return hard_negatives, hard_negative_labels"
   ]
  },
  {
   "cell_type": "code",
   "execution_count": 14,
   "metadata": {},
   "outputs": [],
   "source": [
    "# get the training labels\n",
    "train_labels = os.listdir(train_path)\n",
    "fds = []\n",
    "labels = []"
   ]
  },
  {
   "cell_type": "code",
   "execution_count": 15,
   "metadata": {},
   "outputs": [
    {
     "name": "stdout",
     "output_type": "stream",
     "text": [
      "Processing Negative images\n",
      "[STATUS] processed folder: neg\n",
      "Processing Positive images\n",
      "[STATUS] processed folder: pos\n",
      "[STATUS] completed Positive and Negative Feature Extraction...\n",
      "CPU times: user 25.8 s, sys: 136 ms, total: 26 s\n",
      "Wall time: 26 s\n"
     ]
    }
   ],
   "source": [
    "%%time\n",
    "# loop over the training data sub-folders\n",
    "for training_name in train_labels:\n",
    "    # join the training data path and each species training folder\n",
    "    dir = os.path.join(train_path, training_name)\n",
    "\n",
    "    # get the current training label\n",
    "    current_label = training_name\n",
    "    images_per_class = len(os.listdir(dir))\n",
    "    \n",
    "    if(current_label == 'neg'):\n",
    "        print (\"Processing Negative images\")\n",
    "        for x in range(1,images_per_class+1):\n",
    "            file = dir + \"/\" + str(x) + \".jpg\"\n",
    "            img = cv2.imread(file)\n",
    "            gray = cv2.cvtColor(img, cv2.COLOR_BGR2GRAY)\n",
    "            fd = hog(gray,orientations=9,pixels_per_cell=(6,6),cells_per_block=(2,2),block_norm=\"L1\",transform_sqrt=True)\n",
    "            fds.append(fd)\n",
    "            labels.append(0)\n",
    "        print (\"[STATUS] processed folder: {}\".format(current_label))\n",
    "    elif(current_label == 'pos'):\n",
    "        print (\"Processing Positive images\")\n",
    "        for x in range(1,images_per_class+1):\n",
    "            file = dir + \"/\" + str(x) + \".jpg\"\n",
    "            img = cv2.imread(file)\n",
    "            gray = cv2.cvtColor(img, cv2.COLOR_BGR2GRAY)\n",
    "            fd = hog(gray,orientations=9,pixels_per_cell=(6,6),cells_per_block=(2,2),block_norm=\"L1\",transform_sqrt=True)\n",
    "            fds.append(fd)\n",
    "            labels.append(1)\n",
    "        print (\"[STATUS] processed folder: {}\".format(current_label))\n",
    "            \n",
    "\n",
    "print (\"[STATUS] completed Positive and Negative Feature Extraction...\")"
   ]
  },
  {
   "cell_type": "code",
   "execution_count": 33,
   "metadata": {},
   "outputs": [],
   "source": [
    "print (np.array(fds).shape,len(labels))\n",
    "# Randomize data\n",
    "#np.random.shuffle(fds)\n",
    "#np.random.shuffle(labels)\n",
    "print (\"Images Read and Shuffled\")\n",
    "print (\"Training Started\")\n",
    "# Initializing classifiers\n",
    "\n",
    "clf = svm.LinearSVC(C=0.01)\n",
    "clf.fit(fds,labels)\n",
    "\n",
    "print (\"Trained\")\n",
    "\n",
    "joblib.dump(clf, 'person.pkl')\n"
   ]
  },
  {
   "cell_type": "code",
   "execution_count": 34,
   "metadata": {},
   "outputs": [
    {
     "name": "stdout",
     "output_type": "stream",
     "text": [
      "Hard Negative Mining\n",
      "Images Done: 100.0\tHard negatives: 280gatives: 2796"
     ]
    }
   ],
   "source": [
    "print (\"Hard Negative Mining\")\n",
    "winStride = (8, 8)\n",
    "winSize = (64, 128)\n",
    "hard_negatives, hard_negative_labels = hard_negative_mine(hard_neg, winSize, winStride)"
   ]
  },
  {
   "cell_type": "code",
   "execution_count": 35,
   "metadata": {},
   "outputs": [
    {
     "name": "stdout",
     "output_type": "stream",
     "text": [
      "\n",
      "(280, 6480) 280\n",
      "Final Samples: 8343\n",
      "Retraining the classifier with final data\n",
      "Trained and Dumping\n"
     ]
    },
    {
     "data": {
      "text/plain": [
       "['person_final_hard.pkl']"
      ]
     },
     "execution_count": 35,
     "metadata": {},
     "output_type": "execute_result"
    }
   ],
   "source": [
    "sys.stdout.write(\"\\n\")\n",
    "print(np.array(hard_negatives).shape,len(hard_negative_labels))\n",
    "fds_final = np.concatenate((fds, hard_negatives))\n",
    "labels_final = np.concatenate((labels, hard_negative_labels))\n",
    "\n",
    "print (\"Final Samples: \" + str(len(fds_final)))\n",
    "print (\"Retraining the classifier with final data\")\n",
    "\n",
    "clf.fit(fds_final, labels_final)\n",
    "\n",
    "print (\"Trained and Dumping\")\n",
    "\n",
    "joblib.dump(clf,'person_final_hard.pkl')"
   ]
  },
  {
   "cell_type": "code",
   "execution_count": null,
   "metadata": {},
   "outputs": [],
   "source": []
  }
 ],
 "metadata": {
  "kernelspec": {
   "display_name": "Python 3",
   "language": "python",
   "name": "python3"
  },
  "language_info": {
   "codemirror_mode": {
    "name": "ipython",
    "version": 3
   },
   "file_extension": ".py",
   "mimetype": "text/x-python",
   "name": "python",
   "nbconvert_exporter": "python",
   "pygments_lexer": "ipython3",
   "version": "3.6.6"
  }
 },
 "nbformat": 4,
 "nbformat_minor": 2
}
